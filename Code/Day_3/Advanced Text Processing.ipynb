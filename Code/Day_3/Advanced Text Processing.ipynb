{
 "cells": [
  {
   "cell_type": "markdown",
   "metadata": {},
   "source": [
    "## Advanced text processing\n",
    "1. Using regular expressions\n",
    "2. Using NLP based string manipulations"
   ]
  },
  {
   "cell_type": "markdown",
   "metadata": {},
   "source": [
    "###  A. Regular expressions:\n",
    "1. Used to extract patterns in a text\n",
    "2. Makes some common mundane tasks easier\n"
   ]
  },
  {
   "cell_type": "code",
   "execution_count": 1,
   "metadata": {
    "collapsed": true
   },
   "outputs": [],
   "source": [
    "import re ##This module is required to do regex based processing"
   ]
  },
  {
   "cell_type": "markdown",
   "metadata": {},
   "source": [
    "### Regex: Python\n",
    "1. Understanding the python API: .compile(), .search(), .group(), .findall()\n",
    "2. Understanding wildcards: ?,$, ^,|,{},[]\n",
    "3. Demo: Extracting an email id, phone number"
   ]
  },
  {
   "cell_type": "code",
   "execution_count": 2,
   "metadata": {
    "collapsed": false
   },
   "outputs": [
    {
     "name": "stdout",
     "output_type": "stream",
     "text": [
      "Call me tommorow at 9739520276. 9465837277 is my secondary number\n"
     ]
    }
   ],
   "source": [
    "message='Call me tommorow at 9739520276. 9465837277 is my secondary number'\n",
    "print message"
   ]
  },
  {
   "cell_type": "code",
   "execution_count": 3,
   "metadata": {
    "collapsed": true
   },
   "outputs": [],
   "source": [
    "#Is there a way to extract only the phone number out of this text?\n",
    "#What might be the programmatic approach to this?\n",
    "#Phone numbers are usually of similar length, telephone numbers are always, numbers!!!\n",
    "# We can create a function which returns a boolean value, if the string contains numbers or not\n",
    "def is_phone(chunk):\n",
    "    if len(chunk)!=10:\n",
    "        return False\n",
    "    for i in range(0,10):\n",
    "        if not chunk[i].isdigit():\n",
    "            return False\n",
    "    return True"
   ]
  },
  {
   "cell_type": "code",
   "execution_count": 4,
   "metadata": {
    "collapsed": false
   },
   "outputs": [
    {
     "data": {
      "text/plain": [
       "True"
      ]
     },
     "execution_count": 4,
     "metadata": {},
     "output_type": "execute_result"
    }
   ],
   "source": [
    "is_phone('9739520276')"
   ]
  },
  {
   "cell_type": "code",
   "execution_count": 5,
   "metadata": {
    "collapsed": false
   },
   "outputs": [
    {
     "name": "stdout",
     "output_type": "stream",
     "text": [
      "9739520276\n",
      "9465837277\n"
     ]
    }
   ],
   "source": [
    "for i in range(len(message)):\n",
    "    chunk=message[i:i+10]\n",
    "    if is_phone(chunk):\n",
    "        print chunk\n",
    "    "
   ]
  },
  {
   "cell_type": "code",
   "execution_count": 6,
   "metadata": {
    "collapsed": false
   },
   "outputs": [
    {
     "data": {
      "text/plain": [
       "'2'"
      ]
     },
     "execution_count": 6,
     "metadata": {},
     "output_type": "execute_result"
    }
   ],
   "source": [
    "##This approach obviously has many drawbacks, the code writting is a tedious task, one has to think of custom logic every time\n",
    "#A better approach is to use a regular expression\n",
    "\n",
    "#Finding digits in a text: \\d is the wilcard used to find a digit\n",
    "num_regex=re.compile(r'\\d')\n",
    "text='This text contains a number:2'\n",
    "go=num_regex.search(text)\n",
    "go.group()"
   ]
  },
  {
   "cell_type": "code",
   "execution_count": 7,
   "metadata": {
    "collapsed": false
   },
   "outputs": [
    {
     "data": {
      "text/plain": [
       "'123'"
      ]
     },
     "execution_count": 7,
     "metadata": {},
     "output_type": "execute_result"
    }
   ],
   "source": [
    "#The standard process of using regexes is:\n",
    "#1 Use .compile() to create a pattern\n",
    "#2 Use .search() to seacrh for a pattern\n",
    "#4 Use .group() to display the pattern searched for\n",
    "\n",
    "text='This text contains one number here 123 and another number here 143'\n",
    "#Can you think of a regex?\n",
    "num_regex=re.compile(r'\\d\\d\\d')\n",
    "go=num_regex.search(text)\n",
    "go.group()#What is going on?"
   ]
  },
  {
   "cell_type": "code",
   "execution_count": 8,
   "metadata": {
    "collapsed": false
   },
   "outputs": [
    {
     "data": {
      "text/plain": [
       "['123', '143']"
      ]
     },
     "execution_count": 8,
     "metadata": {},
     "output_type": "execute_result"
    }
   ],
   "source": [
    "go=num_regex.findall(text)\n",
    "go"
   ]
  },
  {
   "cell_type": "code",
   "execution_count": 9,
   "metadata": {
    "collapsed": false
   },
   "outputs": [
    {
     "data": {
      "text/plain": [
       "['23', '12345', '124']"
      ]
     },
     "execution_count": 9,
     "metadata": {},
     "output_type": "execute_result"
    }
   ],
   "source": [
    "#Let's recapitulate, if there is more than one pattern that one needs to be searched for, use .find_all(), if first \n",
    "#occurence has to be searched use .search()\n",
    "\n",
    "#Wild cards can be used to, make certain tasks easier\n",
    "text='This text contains one number here 23, another here 12345 and the last one here 124'\n",
    "num_regex=re.compile(r'\\d{2,5}')\n",
    "go=num_regex.findall(text)\n",
    "go"
   ]
  },
  {
   "cell_type": "code",
   "execution_count": 10,
   "metadata": {
    "collapsed": false
   },
   "outputs": [
    {
     "data": {
      "text/plain": [
       "['23', '12345667889909090909', '3489']"
      ]
     },
     "execution_count": 10,
     "metadata": {},
     "output_type": "execute_result"
    }
   ],
   "source": [
    "#Another wild card used is +, it matches one or more occurence\n",
    "text='This text contains one number here 23, another here 12345667889909090909 and the last one here 3489'\n",
    "num_regex=re.compile(r'\\d+')\n",
    "go=num_regex.findall(text)\n",
    "go"
   ]
  },
  {
   "cell_type": "code",
   "execution_count": 12,
   "metadata": {
    "collapsed": false
   },
   "outputs": [
    {
     "data": {
      "text/plain": [
       "['9739520276', '999739520276']"
      ]
     },
     "execution_count": 12,
     "metadata": {},
     "output_type": "execute_result"
    }
   ],
   "source": [
    "#Sometimes one needs to match patterns that are optional, ? is used in such a scenario\n",
    "text='phone numbers are written either as 9739520276 or with a country code 919739520276'\n",
    "num_regex=re.compile(r'91?\\d+')\n",
    "go=num_regex.findall(text)\n",
    "go"
   ]
  },
  {
   "cell_type": "code",
   "execution_count": 5,
   "metadata": {
    "collapsed": false
   },
   "outputs": [
    {
     "data": {
      "text/plain": [
       "['+919739520276']"
      ]
     },
     "execution_count": 5,
     "metadata": {},
     "output_type": "execute_result"
    }
   ],
   "source": [
    "# A more realistic scenario would be:\n",
    "text='phone numbers are written either as 9739520276 or with a country code +919739520276'\n",
    "# + is a wildcard, wildcards have to be escaped if not used in the context of pattern matching\n",
    "num_regex=re.compile(r'\\+91?\\d+')\n",
    "go=num_regex.findall(text)\n",
    "go"
   ]
  },
  {
   "cell_type": "code",
   "execution_count": 9,
   "metadata": {
    "collapsed": false
   },
   "outputs": [
    {
     "data": {
      "text/plain": [
       "[('', '9739520276'), ('+91', '9739520276')]"
      ]
     },
     "execution_count": 9,
     "metadata": {},
     "output_type": "execute_result"
    }
   ],
   "source": [
    "#This doesn't return the first phone number: The way to handle this is to search for groups, what does that mean?\n",
    "num_regex=re.compile(r'(\\+91)?(\\d+)')\n",
    "go=num_regex.findall(text)\n",
    "go"
   ]
  },
  {
   "cell_type": "code",
   "execution_count": 13,
   "metadata": {
    "collapsed": false
   },
   "outputs": [
    {
     "data": {
      "text/plain": [
       "[('020 ', '7946 0234'), ('020 ', '+91973952027')]"
      ]
     },
     "execution_count": 13,
     "metadata": {},
     "output_type": "execute_result"
    }
   ],
   "source": [
    "text='Not all people live in India, my friend who is in England, his number is 020 7946 0234 and my number is +919739520276'\n",
    "num_regex=re.compile(r'(020\\s)?(\\d{4}\\s\\d{4}|\\+\\d{11})')\n",
    "go=num_regex.findall(text)\n",
    "go"
   ]
  },
  {
   "cell_type": "code",
   "execution_count": 15,
   "metadata": {
    "collapsed": false
   },
   "outputs": [
    {
     "data": {
      "text/plain": [
       "[('+91 ', '9739 52076'), ('090 ', '973 952 0276')]"
      ]
     },
     "execution_count": 15,
     "metadata": {},
     "output_type": "execute_result"
    }
   ],
   "source": [
    "# A few new wildcards have been introduced \\s->whitespace, |-> or condition\n",
    "# Can you think of a wildcard for searching phone numbers in the following text?\n",
    "text='Here is a phone number +91 9739 52076 and another phone number 090 973 952 0276'\n",
    "num_regex=re.compile(r'(\\+91\\s|090\\s)?(\\d{3}\\s\\d{3}\\s\\d{4}|\\d{4}\\s\\d+)')\n",
    "go=num_regex.findall(text)\n",
    "go"
   ]
  },
  {
   "cell_type": "markdown",
   "metadata": {
    "collapsed": true
   },
   "source": [
    "#### There are many wildcards or metacharacters, that are a part of regular expressions. Here is a list of these \n",
    "<img src='character_classes.png'>"
   ]
  },
  {
   "cell_type": "markdown",
   "metadata": {},
   "source": [
    "#### Here is a list of all the regex operators\n",
    "<img,src='regex.png'>"
   ]
  },
  {
   "cell_type": "code",
   "execution_count": 17,
   "metadata": {
    "collapsed": false
   },
   "outputs": [
    {
     "data": {
      "text/plain": [
       "['john123@']"
      ]
     },
     "execution_count": 17,
     "metadata": {},
     "output_type": "execute_result"
    }
   ],
   "source": [
    "#Although there are several inbuilt character classes, pre-defined in most regex frameworks, there are instances where\n",
    "#one needs to create their own custom classes.\n",
    "text='my email id is john123@gmail.com'\n",
    "#To match an email id, its better if we can define a class, usernames can be a mix of numbers or alphabets, we can create\n",
    "#a custom class \n",
    "email_regex=re.compile(r'([a-zA-Z0-9]+@)')\n",
    "email_regex.findall(text)"
   ]
  },
  {
   "cell_type": "code",
   "execution_count": 18,
   "metadata": {
    "collapsed": false
   },
   "outputs": [
    {
     "data": {
      "text/plain": [
       "['123abc@']"
      ]
     },
     "execution_count": 18,
     "metadata": {},
     "output_type": "execute_result"
    }
   ],
   "source": [
    "text='email id is 123abc@flatmail.com'\n",
    "email_regex.findall(text)"
   ]
  },
  {
   "cell_type": "code",
   "execution_count": 19,
   "metadata": {
    "collapsed": false
   },
   "outputs": [
    {
     "data": {
      "text/plain": [
       "<_sre.SRE_Match at 0x7f49766426c0>"
      ]
     },
     "execution_count": 19,
     "metadata": {},
     "output_type": "execute_result"
    }
   ],
   "source": [
    "##There are some other methods available in re module\n",
    "#search\n",
    "email_regex.search(text)"
   ]
  },
  {
   "cell_type": "code",
   "execution_count": 23,
   "metadata": {
    "collapsed": false
   },
   "outputs": [
    {
     "data": {
      "text/plain": [
       "True"
      ]
     },
     "execution_count": 23,
     "metadata": {},
     "output_type": "execute_result"
    }
   ],
   "source": [
    "bool(email_regex.search(text))\n",
    "#email_regex.search(text)!=None"
   ]
  },
  {
   "cell_type": "code",
   "execution_count": 24,
   "metadata": {
    "collapsed": false
   },
   "outputs": [
    {
     "data": {
      "text/plain": [
       "'email id is abcflatmail.com'"
      ]
     },
     "execution_count": 24,
     "metadata": {},
     "output_type": "execute_result"
    }
   ],
   "source": [
    "email_regex.sub(\"abc\",text)"
   ]
  },
  {
   "cell_type": "markdown",
   "metadata": {},
   "source": [
    "### B. Using NLP based string manipulations:\n",
    "1. Tokenizing\n",
    "2. Removing punctuation\n",
    "3. Doing simple counts\n"
   ]
  },
  {
   "cell_type": "code",
   "execution_count": 26,
   "metadata": {
    "collapsed": false
   },
   "outputs": [],
   "source": [
    "##Many times there are some text processing tasks that aren't easily handled by regex or anything we have discussed so far\n",
    "import nltk\n",
    "text='This sentence has commas, full stops names with dots, spacy.loads(). Can we break down the whole sentence into words? '"
   ]
  },
  {
   "cell_type": "code",
   "execution_count": 27,
   "metadata": {
    "collapsed": false
   },
   "outputs": [],
   "source": [
    "words=nltk.word_tokenize(text)"
   ]
  },
  {
   "cell_type": "code",
   "execution_count": 28,
   "metadata": {
    "collapsed": false
   },
   "outputs": [
    {
     "name": "stdout",
     "output_type": "stream",
     "text": [
      "['This', 'sentence', 'has', 'commas', ',', 'full', 'stops', 'names', 'with', 'dots', ',', 'spacy.loads', '(', ')', '.', 'Can', 'we', 'break', 'down', 'the', 'whole', 'sentence', 'into', 'words', '?']\n"
     ]
    }
   ],
   "source": [
    "print words"
   ]
  },
  {
   "cell_type": "code",
   "execution_count": 29,
   "metadata": {
    "collapsed": true
   },
   "outputs": [],
   "source": [
    "words_norm=[word.lower() for word in words if word.isalpha()]"
   ]
  },
  {
   "cell_type": "code",
   "execution_count": 30,
   "metadata": {
    "collapsed": false
   },
   "outputs": [
    {
     "name": "stdout",
     "output_type": "stream",
     "text": [
      "['this', 'sentence', 'has', 'commas', 'full', 'stops', 'names', 'with', 'dots', 'can', 'we', 'break', 'down', 'the', 'whole', 'sentence', 'into', 'words']\n"
     ]
    }
   ],
   "source": [
    "print words_norm"
   ]
  },
  {
   "cell_type": "code",
   "execution_count": 32,
   "metadata": {
    "collapsed": false
   },
   "outputs": [
    {
     "data": {
      "text/plain": [
       "'this sentence has commas full stops names with dots can we break down the whole sentence into words'"
      ]
     },
     "execution_count": 32,
     "metadata": {},
     "output_type": "execute_result"
    }
   ],
   "source": [
    "#Convert it into a string\n",
    "\" \".join(words_norm)"
   ]
  },
  {
   "cell_type": "code",
   "execution_count": 33,
   "metadata": {
    "collapsed": false
   },
   "outputs": [],
   "source": [
    "#Counting words\n",
    "count=nltk.FreqDist(words_norm)"
   ]
  },
  {
   "cell_type": "code",
   "execution_count": 34,
   "metadata": {
    "collapsed": false
   },
   "outputs": [
    {
     "data": {
      "text/plain": [
       "FreqDist({'break': 1,\n",
       "          'can': 1,\n",
       "          'commas': 1,\n",
       "          'dots': 1,\n",
       "          'down': 1,\n",
       "          'full': 1,\n",
       "          'has': 1,\n",
       "          'into': 1,\n",
       "          'names': 1,\n",
       "          'sentence': 2,\n",
       "          'stops': 1,\n",
       "          'the': 1,\n",
       "          'this': 1,\n",
       "          'we': 1,\n",
       "          'whole': 1,\n",
       "          'with': 1,\n",
       "          'words': 1})"
      ]
     },
     "execution_count": 34,
     "metadata": {},
     "output_type": "execute_result"
    }
   ],
   "source": [
    "count"
   ]
  },
  {
   "cell_type": "code",
   "execution_count": 35,
   "metadata": {
    "collapsed": false
   },
   "outputs": [
    {
     "data": {
      "text/plain": [
       "0"
      ]
     },
     "execution_count": 35,
     "metadata": {},
     "output_type": "execute_result"
    }
   ],
   "source": [
    "count['This']"
   ]
  },
  {
   "cell_type": "code",
   "execution_count": null,
   "metadata": {
    "collapsed": true
   },
   "outputs": [],
   "source": []
  }
 ],
 "metadata": {
  "anaconda-cloud": {},
  "kernelspec": {
   "display_name": "Python 2",
   "language": "python",
   "name": "python2"
  },
  "language_info": {
   "codemirror_mode": {
    "name": "ipython",
    "version": 2
   },
   "file_extension": ".py",
   "mimetype": "text/x-python",
   "name": "python",
   "nbconvert_exporter": "python",
   "pygments_lexer": "ipython2",
   "version": "2.7.13"
  }
 },
 "nbformat": 4,
 "nbformat_minor": 1
}
