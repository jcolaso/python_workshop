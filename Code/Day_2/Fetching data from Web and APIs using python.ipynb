{
 "cells": [
  {
   "cell_type": "markdown",
   "metadata": {},
   "source": [
    "## Accessing web data:\n",
    "1. Making requests\n",
    "2. Parsing through json data\n",
    "3. Fetching data through html tags using beautiful soup"
   ]
  },
  {
   "cell_type": "markdown",
   "metadata": {},
   "source": [
    "### Part 1: Making requests\n",
    "1. Using requests module\n",
    "\n",
    "There are other libraries that give you the ability to interact with http and make different kind of requests, but in my experience requests() module serves the purpose and is sufficient for majority of the needs. One can also use urllib, urllib2 and urllib3 to do similar tasks as well. If you know how to make web requests in python and don't want to use requests() module, then you can skip this section and continue with xml and html parsing."
   ]
  },
  {
   "cell_type": "code",
   "execution_count": 1,
   "metadata": {
    "collapsed": true
   },
   "outputs": [],
   "source": [
    "import requests\n",
    "import os"
   ]
  },
  {
   "cell_type": "markdown",
   "metadata": {},
   "source": [
    "We will be using the openweather api to demonstrate how http requests are made. Go to <a href='http://openweathermap.org/appid'>this link </a>to create an account and generate an api key. Once you have that you can try to make an api call for the current weather api <a href='http://openweathermap.org/api'>here</a> One api call that can be made is by visiting this url http://api.openweathermap.org/data/2.5/forecast?id=524901&APPID&APPID=your_key you will need to supply your api key for this to work"
   ]
  },
  {
   "cell_type": "markdown",
   "metadata": {},
   "source": [
    "Now, since we've seen how to use the browser to make the api call (it was just a simple url that we were hitting using our browser). Now, let's see how we can do the same task programmatcally."
   ]
  },
  {
   "cell_type": "code",
   "execution_count": 2,
   "metadata": {
    "collapsed": false
   },
   "outputs": [],
   "source": [
    "os.chdir('E:\\Work\\Python\\Python Trainings')\n",
    "f=open('open_weather_api.txt','r')\n",
    "key=f.read()\n",
    "f.close()"
   ]
  },
  {
   "cell_type": "code",
   "execution_count": 3,
   "metadata": {
    "collapsed": false
   },
   "outputs": [],
   "source": [
    "base_url='http://api.openweathermap.org/data/2.5/weather?q=London&APPID='\n",
    "url=base_url+key\n",
    "request=requests.get(url.strip())##The raw text file has whitespaces after the key value\n"
   ]
  },
  {
   "cell_type": "markdown",
   "metadata": {},
   "source": [
    "To figure out if the request() was successful, one can check the http status codes, A status code of 200, signifies that there is no error. <a href='https://en.wikipedia.org/wiki/List_of_HTTP_status_codes'>Here is a comprehensive list of http error codes and what they mean</a>"
   ]
  },
  {
   "cell_type": "code",
   "execution_count": 4,
   "metadata": {
    "collapsed": false
   },
   "outputs": [
    {
     "name": "stdout",
     "output_type": "stream",
     "text": [
      "200\n"
     ]
    }
   ],
   "source": [
    "print request.status_code"
   ]
  },
  {
   "cell_type": "markdown",
   "metadata": {
    "collapsed": false
   },
   "source": [
    "Sometimes the requests() function will not be able to fetch data, this can happen because of the inability of requests() method to mimic the behaviour of a browser, this can be remidied by supplying correct headers. <a href='http://docs.python-requests.org/en/master/user/quickstart/#custom-headers'>See the official docs here to see how supply custom headers</a>"
   ]
  },
  {
   "cell_type": "code",
   "execution_count": 5,
   "metadata": {
    "collapsed": false
   },
   "outputs": [],
   "source": [
    "headers={'user-agent':'Mozilla/5.0 (X11; Ubuntu; Linux x86_64; rv:51.0) Gecko/20100101 Firefox/51.0'}\n",
    "request=requests.get(url.strip(),headers)"
   ]
  },
  {
   "cell_type": "code",
   "execution_count": 6,
   "metadata": {
    "collapsed": false
   },
   "outputs": [
    {
     "name": "stdout",
     "output_type": "stream",
     "text": [
      "200\n"
     ]
    }
   ],
   "source": [
    "print request.status_code"
   ]
  },
  {
   "cell_type": "markdown",
   "metadata": {},
   "source": [
    "One can find out the contents of the request by choosing specific request methods. Here is the list of methods:\n",
    "1. <a href='http://docs.python-requests.org/en/master/user/quickstart/#response-content'>Response Content</a>\n",
    "2. <a href='http://docs.python-requests.org/en/master/user/quickstart/#binary-response-content'>Binary Response</a>\n",
    "3. <a href='http://docs.python-requests.org/en/master/user/quickstart/#json-response-content'>JSON Response</a>\n",
    "4. <a href='http://docs.python-requests.org/en/master/user/quickstart/#raw-response-content'> Raw Response</a>"
   ]
  },
  {
   "cell_type": "code",
   "execution_count": 7,
   "metadata": {
    "collapsed": false
   },
   "outputs": [
    {
     "name": "stdout",
     "output_type": "stream",
     "text": [
      "{\"coord\":{\"lon\":-0.13,\"lat\":51.51},\"weather\":[{\"id\":310,\"main\":\"Drizzle\",\"description\":\"light intensity drizzle rain\",\"icon\":\"09d\"}],\"base\":\"stations\",\"main\":{\"temp\":287.78,\"pressure\":1010,\"humidity\":87,\"temp_min\":287.15,\"temp_max\":289.15},\"visibility\":10000,\"wind\":{\"speed\":3.6,\"deg\":300},\"clouds\":{\"all\":90},\"dt\":1500875400,\"sys\":{\"type\":1,\"id\":5091,\"message\":0.0047,\"country\":\"GB\",\"sunrise\":1500869588,\"sunset\":1500926402},\"id\":2643743,\"name\":\"London\",\"cod\":200}\n"
     ]
    }
   ],
   "source": [
    "print request.text"
   ]
  },
  {
   "cell_type": "code",
   "execution_count": 8,
   "metadata": {
    "collapsed": false
   },
   "outputs": [],
   "source": [
    "data=request.text"
   ]
  },
  {
   "cell_type": "code",
   "execution_count": 9,
   "metadata": {
    "collapsed": false
   },
   "outputs": [
    {
     "data": {
      "text/plain": [
       "unicode"
      ]
     },
     "execution_count": 9,
     "metadata": {},
     "output_type": "execute_result"
    }
   ],
   "source": [
    "type(data)"
   ]
  },
  {
   "cell_type": "code",
   "execution_count": 10,
   "metadata": {
    "collapsed": true
   },
   "outputs": [],
   "source": [
    "data=request.json()"
   ]
  },
  {
   "cell_type": "code",
   "execution_count": 11,
   "metadata": {
    "collapsed": false
   },
   "outputs": [
    {
     "data": {
      "text/plain": [
       "dict"
      ]
     },
     "execution_count": 11,
     "metadata": {},
     "output_type": "execute_result"
    }
   ],
   "source": [
    "type(data)"
   ]
  },
  {
   "cell_type": "code",
   "execution_count": 12,
   "metadata": {
    "collapsed": false
   },
   "outputs": [
    {
     "name": "stdout",
     "output_type": "stream",
     "text": [
      "[u'clouds', u'name', u'visibility', u'sys', u'weather', u'coord', u'base', u'dt', u'main', u'id', u'wind', u'cod']\n"
     ]
    }
   ],
   "source": [
    "print data.keys()"
   ]
  },
  {
   "cell_type": "code",
   "execution_count": 13,
   "metadata": {
    "collapsed": false
   },
   "outputs": [
    {
     "name": "stdout",
     "output_type": "stream",
     "text": [
      "{u'pressure': 1010, u'temp_min': 287.15, u'temp_max': 289.15, u'temp': 287.78, u'humidity': 87}\n"
     ]
    }
   ],
   "source": [
    "print data['main']"
   ]
  },
  {
   "cell_type": "code",
   "execution_count": 14,
   "metadata": {
    "collapsed": false
   },
   "outputs": [],
   "source": [
    "## Can you extract the country name\n",
    "## Sunset and sunrise time (its been given in unix format)\n",
    "## Use the file Api hands on.docx and answer the questions that follow,"
   ]
  },
  {
   "cell_type": "markdown",
   "metadata": {},
   "source": [
    "Open weather gives you an ability to choose the format of the response you want. By default the response is a json object, though one can get <a href='https://openweathermap.org/current#other'> an xml and an html response as well </a>"
   ]
  },
  {
   "cell_type": "code",
   "execution_count": 15,
   "metadata": {
    "collapsed": true
   },
   "outputs": [],
   "source": [
    "base_url='http://api.openweathermap.org/data/2.5/weather?q=London&mode=xml&APPID='\n",
    "url=base_url+key\n",
    "request_xml=requests.get(url.strip())##The raw text file has whitespaces after the key value\n"
   ]
  },
  {
   "cell_type": "code",
   "execution_count": 16,
   "metadata": {
    "collapsed": false
   },
   "outputs": [
    {
     "name": "stdout",
     "output_type": "stream",
     "text": [
      "<?xml version=\"1.0\" encoding=\"UTF-8\"?>\n",
      "<current><city id=\"2643743\" name=\"London\"><coord lon=\"-0.13\" lat=\"51.51\"></coord><country>GB</country><sun rise=\"2017-07-24T04:13:08\" set=\"2017-07-24T20:00:02\"></sun></city><temperature value=\"287.78\" min=\"287.15\" max=\"289.15\" unit=\"kelvin\"></temperature><humidity value=\"87\" unit=\"%\"></humidity><pressure value=\"1010\" unit=\"hPa\"></pressure><wind><speed value=\"3.6\" name=\"Gentle Breeze\"></speed><gusts></gusts><direction value=\"300\" code=\"WNW\" name=\"West-northwest\"></direction></wind><clouds value=\"90\" name=\"overcast clouds\"></clouds><visibility value=\"10000\"></visibility><precipitation mode=\"no\"></precipitation><weather number=\"310\" value=\"light intensity drizzle rain\" icon=\"09d\"></weather><lastupdate value=\"2017-07-24T05:50:00\"></lastupdate></current>\n"
     ]
    }
   ],
   "source": [
    "print request_xml.text"
   ]
  },
  {
   "cell_type": "code",
   "execution_count": 17,
   "metadata": {
    "collapsed": false
   },
   "outputs": [
    {
     "data": {
      "text/plain": [
       "unicode"
      ]
     },
     "execution_count": 17,
     "metadata": {},
     "output_type": "execute_result"
    }
   ],
   "source": [
    "type(request_xml.text)"
   ]
  },
  {
   "cell_type": "markdown",
   "metadata": {},
   "source": [
    "The requests module can't handle xml response as there is no method to handle xml data. Eventually every form of response should get converted into a datastructure native to python, when we used the json() method we were able to obtain a dictionary, as you can see there is no method that requests() provides to handle xml data. "
   ]
  },
  {
   "cell_type": "code",
   "execution_count": 18,
   "metadata": {
    "collapsed": false
   },
   "outputs": [
    {
     "name": "stdout",
     "output_type": "stream",
     "text": [
      "['__attrs__', '__bool__', '__class__', '__delattr__', '__dict__', '__doc__', '__format__', '__getattribute__', '__getstate__', '__hash__', '__init__', '__iter__', '__module__', '__new__', '__nonzero__', '__reduce__', '__reduce_ex__', '__repr__', '__setattr__', '__setstate__', '__sizeof__', '__str__', '__subclasshook__', '__weakref__', '_content', '_content_consumed', 'apparent_encoding', 'close', 'connection', 'content', 'cookies', 'elapsed', 'encoding', 'headers', 'history', 'is_permanent_redirect', 'is_redirect', 'iter_content', 'iter_lines', 'json', 'links', 'ok', 'raise_for_status', 'raw', 'reason', 'request', 'status_code', 'text', 'url']\n"
     ]
    }
   ],
   "source": [
    "print dir(request_xml)"
   ]
  },
  {
   "cell_type": "code",
   "execution_count": 19,
   "metadata": {
    "collapsed": false
   },
   "outputs": [
    {
     "data": {
      "text/plain": [
       "False"
      ]
     },
     "execution_count": 19,
     "metadata": {},
     "output_type": "execute_result"
    }
   ],
   "source": [
    "\"xml\" in dir(request_xml)"
   ]
  },
  {
   "cell_type": "markdown",
   "metadata": {},
   "source": [
    "You can also see that the api exposes an html response as well, but again we don't have a method in the requests class to handle this. Let's use the api to get an html response and then see what response() class's text method returns"
   ]
  },
  {
   "cell_type": "code",
   "execution_count": 20,
   "metadata": {
    "collapsed": true
   },
   "outputs": [],
   "source": [
    "base_url='http://api.openweathermap.org/data/2.5/weather?q=London&mode=html&APPID='\n",
    "url=base_url+key\n",
    "request_html=requests.get(url.strip())##The raw text file has whitespaces after the key value\n"
   ]
  },
  {
   "cell_type": "code",
   "execution_count": 21,
   "metadata": {
    "collapsed": false
   },
   "outputs": [
    {
     "name": "stdout",
     "output_type": "stream",
     "text": [
      "<!DOCTYPE html>\n",
      "<html lang=\"en\">\n",
      "<head>\n",
      "  <meta charset=\"utf-8\">\n",
      "  <meta name=\"keywords\" content=\"weather, world, openweathermap, weather, layer\" />\n",
      "  <meta name=\"description\" content=\"A layer with current weather conditions in cities for world wide\" />\n",
      "  <meta name=\"domain\" content=\"openweathermap.org\" />\n",
      "  <meta http-equiv=\"pragma\" content=\"no-cache\" />\n",
      "  <meta http-equiv=\"Expires\" content=\"-1\" />\n",
      "</head>\n",
      "<body>\n",
      "  <div style=\"font-size: medium; font-weight: bold; margin-bottom: 0px;\">London</div>\n",
      "  <div style=\"float: left; width: 130px;\">\n",
      "    <div style=\"display: block; clear: left;\">\n",
      "      <div style=\"float: left;\" title=\"Titel\">\n",
      "        <img height=\"45\" width=\"45\" style=\"border: medium none; width: 45px; height: 45px; background: url(&quot;http://openweathermap.org/img/w/09d.png&quot;) repeat scroll 0% 0% transparent;\" alt=\"title\" src=\"http://openweathermap.org/images/transparent.png\"/>\n",
      "      </div>\n",
      "      <div style=\"float: left;\">\n",
      "        <div style=\"display: block; clear: left; font-size: medium; font-weight: bold; padding: 0pt 3pt;\" title=\"Current Temperature\">14.63°C</div>\n",
      "        <div style=\"display: block; width: 85px; overflow: visible;\"></div>\n",
      "      </div>\n",
      "    </div>\n",
      "    <div style=\"display: block; clear: left; font-size: small;\">Clouds: 90%</div>\n",
      "    <div style=\"display: block; clear: left; color: gray; font-size: x-small;\" >Humidity: 87%</div>\n",
      "    <div style=\"display: block; clear: left; color: gray; font-size: x-small;\" >Wind: 3.6 m/s</div>\n",
      "    <div style=\"display: block; clear: left; color: gray; font-size: x-small;\" >Pressure: 1010hpa</div>\n",
      "  </div>\n",
      "  <div style=\"display: block; clear: left; color: gray; font-size: x-small;\">\n",
      "    <a href=\"http://openweathermap.org/city/2643743?utm_source=openweathermap&utm_medium=widget&utm_campaign=html_old\" target=\"_blank\">More..</a>\n",
      "  </div>\n",
      "  <script>(function(i,s,o,g,r,a,m){i['GoogleAnalyticsObject']=r;i[r]=i[r]||function(){\n",
      "(i[r].q=i[r].q||[]).push(arguments)},i[r].l=1*new Date();a=s.createElement(o),\n",
      "m=s.getElementsByTagName(o)[0];a.async=1;a.src=g;m.parentNode.insertBefore(a,m)\n",
      "})(window,document,'script','//www.google-analytics.com/analytics.js','ga');ga('create', 'UA-31601618-9', 'auto');ga('send', 'pageview');</script>\n",
      "</body>\n",
      "</html>\n"
     ]
    }
   ],
   "source": [
    "print request_html.text"
   ]
  },
  {
   "cell_type": "code",
   "execution_count": 22,
   "metadata": {
    "collapsed": false
   },
   "outputs": [
    {
     "name": "stdout",
     "output_type": "stream",
     "text": [
      "<type 'unicode'>\n",
      "<type 'str'>\n"
     ]
    }
   ],
   "source": [
    "print type(request_html.text)\n",
    "print type(request_html.content)"
   ]
  },
  {
   "cell_type": "code",
   "execution_count": 23,
   "metadata": {
    "collapsed": false
   },
   "outputs": [],
   "source": [
    "os.chdir('E:\\Work\\Python\\Python Trainings\\Python Advanced\\Code\\Day_2')"
   ]
  },
  {
   "cell_type": "code",
   "execution_count": 24,
   "metadata": {
    "collapsed": true
   },
   "outputs": [],
   "source": [
    "f=open('sample.html','w')"
   ]
  },
  {
   "cell_type": "code",
   "execution_count": 25,
   "metadata": {
    "collapsed": false
   },
   "outputs": [],
   "source": [
    "for s in request_html.content:\n",
    "    f.write(s)"
   ]
  },
  {
   "cell_type": "code",
   "execution_count": 26,
   "metadata": {
    "collapsed": true
   },
   "outputs": [],
   "source": [
    "f.close()"
   ]
  },
  {
   "cell_type": "markdown",
   "metadata": {},
   "source": [
    "## Part 2: Parsing html using beautifulsoup4\n",
    "We have seen html response earlier from the api call that we had made. One can onbtain the html response if a request is made to a web page. The discussion below focuses on how one can parse an html response obtained via requests module. Again DOM framework will be followed to parse through the tags"
   ]
  },
  {
   "cell_type": "code",
   "execution_count": 27,
   "metadata": {
    "collapsed": false
   },
   "outputs": [],
   "source": [
    "from bs4 import BeautifulSoup"
   ]
  },
  {
   "cell_type": "markdown",
   "metadata": {
    "collapsed": true
   },
   "source": [
    "We will first look at the basic objects and classes that are provided by bs4.\n",
    "\n",
    "<img src=\"BeautifulSoup.png\">"
   ]
  },
  {
   "cell_type": "markdown",
   "metadata": {
    "collapsed": true
   },
   "source": [
    "We will read in a file with html markup and then introduce you to bs4 objects"
   ]
  },
  {
   "cell_type": "code",
   "execution_count": 28,
   "metadata": {
    "collapsed": true
   },
   "outputs": [],
   "source": [
    "os.chdir('E:\\Work\\Python\\Python Trainings\\Python Advanced\\Code\\Day_2')\n",
    "f=open('html.html','r')\n",
    "html=f.read()\n",
    "f.close()"
   ]
  },
  {
   "cell_type": "code",
   "execution_count": 29,
   "metadata": {
    "collapsed": false
   },
   "outputs": [
    {
     "name": "stdout",
     "output_type": "stream",
     "text": [
      "<!DOCTYPE html>\n",
      "<html>\n",
      " <head>\n",
      "  <title>\n",
      "   GETTING STARTED WITH bs4\n",
      "  </title>\n",
      " </head>\n",
      " <div class=\"para 1\">\n",
      "  <p>\n",
      "   This is paragraph one\n",
      "  </p>\n",
      "  <p>\n",
      "   This is paragraph two\n",
      "  </p>\n",
      " </div>\n",
      " <div class=\"para 2\">\n",
      "  <p>\n",
      "   This is para 1 in div 2\n",
      "  </p>\n",
      " </div>\n",
      " <div class=\"para 1\">\n",
      "  <p>\n",
      "   This is paragraph three of div with class para 1\n",
      "  </p>\n",
      "  <p>\n",
      "   This is paragraph four of div with class para 1\n",
      "  </p>\n",
      " </div>\n",
      "</html>\n"
     ]
    }
   ],
   "source": [
    "##The first thing that one needs to do after acquiring the markup is to convert it into a soup object\n",
    "html_soup=BeautifulSoup(html,'html.parser')\n",
    "print html_soup.prettify()"
   ]
  },
  {
   "cell_type": "code",
   "execution_count": 30,
   "metadata": {
    "collapsed": false
   },
   "outputs": [
    {
     "name": "stdout",
     "output_type": "stream",
     "text": [
      "<class 'bs4.BeautifulSoup'>\n"
     ]
    }
   ],
   "source": [
    "print type(html_soup)"
   ]
  },
  {
   "cell_type": "markdown",
   "metadata": {},
   "source": [
    "We will look into how following tasks can be done:\n",
    "1. Selecting specific elements (based on html tags)\n",
    "2. Extracting the text from tags\n",
    "3. Traversing the html tree"
   ]
  },
  {
   "cell_type": "code",
   "execution_count": 31,
   "metadata": {
    "collapsed": false
   },
   "outputs": [
    {
     "name": "stdout",
     "output_type": "stream",
     "text": [
      "<class 'bs4.element.Tag'>\n"
     ]
    }
   ],
   "source": [
    "##Selecting specific elements\n",
    "head=html_soup.head\n",
    "print type(head)"
   ]
  },
  {
   "cell_type": "markdown",
   "metadata": {},
   "source": [
    "<img src='Tag Object.png'>"
   ]
  },
  {
   "cell_type": "code",
   "execution_count": 32,
   "metadata": {
    "collapsed": false
   },
   "outputs": [
    {
     "name": "stdout",
     "output_type": "stream",
     "text": [
      "head\n",
      "None\n",
      "<head>\n",
      "<title>GETTING STARTED WITH bs4</title>\n",
      "</head>\n"
     ]
    }
   ],
   "source": [
    "print head.name\n",
    "print head.attr\n",
    "print head"
   ]
  },
  {
   "cell_type": "code",
   "execution_count": 33,
   "metadata": {
    "collapsed": false
   },
   "outputs": [
    {
     "name": "stdout",
     "output_type": "stream",
     "text": [
      "<title>GETTING STARTED WITH bs4</title>\n",
      "<class 'bs4.element.Tag'>\n",
      "[u'GETTING STARTED WITH bs4']\n",
      "[u'\\n', <title>GETTING STARTED WITH bs4</title>, u'\\n']\n"
     ]
    }
   ],
   "source": [
    "## Extracting text from tags\n",
    "print html_soup.head.title\n",
    "print type(html_soup.head.title)\n",
    "print html_soup.head.title.contents\n",
    "print html_soup.head.contents"
   ]
  },
  {
   "cell_type": "code",
   "execution_count": 34,
   "metadata": {
    "collapsed": false
   },
   "outputs": [
    {
     "name": "stdout",
     "output_type": "stream",
     "text": [
      "GETTING STARTED WITH bs4\n",
      "<class 'bs4.element.NavigableString'>\n"
     ]
    }
   ],
   "source": [
    "## Extracting text from tags\n",
    "print html_soup.head.title.string\n",
    "print type(html_soup.head.title.string)"
   ]
  },
  {
   "cell_type": "code",
   "execution_count": 35,
   "metadata": {
    "collapsed": false
   },
   "outputs": [
    {
     "name": "stdout",
     "output_type": "stream",
     "text": [
      "GETTING STARTED WITH bs4\n",
      "<type 'unicode'>\n"
     ]
    }
   ],
   "source": [
    "## Extarcting text from tags\n",
    "print html_soup.head.title.text\n",
    "print type(html_soup.head.title.text)"
   ]
  },
  {
   "cell_type": "code",
   "execution_count": 36,
   "metadata": {
    "collapsed": false
   },
   "outputs": [
    {
     "name": "stdout",
     "output_type": "stream",
     "text": [
      "<!DOCTYPE html>\n",
      "<html>\n",
      " <head>\n",
      "  <title>\n",
      "   GETTING STARTED WITH bs4\n",
      "  </title>\n",
      " </head>\n",
      " <div class=\"para 1\">\n",
      "  <p>\n",
      "   This is paragraph one\n",
      "  </p>\n",
      "  <p>\n",
      "   This is paragraph two\n",
      "  </p>\n",
      " </div>\n",
      " <div class=\"para 2\">\n",
      "  <p>\n",
      "   This is para 1 in div 2\n",
      "  </p>\n",
      " </div>\n",
      " <div class=\"para 1\">\n",
      "  <p>\n",
      "   This is paragraph three of div with class para 1\n",
      "  </p>\n",
      "  <p>\n",
      "   This is paragraph four of div with class para 1\n",
      "  </p>\n",
      " </div>\n",
      "</html>\n"
     ]
    }
   ],
   "source": [
    "## Traversing the html tree\n",
    "# One can go deep into the tree by using appropriate tag methods\n",
    "print html_soup.prettify()"
   ]
  },
  {
   "cell_type": "code",
   "execution_count": 37,
   "metadata": {
    "collapsed": false
   },
   "outputs": [
    {
     "name": "stdout",
     "output_type": "stream",
     "text": [
      "<title>GETTING STARTED WITH bs4</title>\n"
     ]
    }
   ],
   "source": [
    "##Suppose we want to traverse to the title tag\n",
    "print html_soup.head.title"
   ]
  },
  {
   "cell_type": "code",
   "execution_count": 38,
   "metadata": {
    "collapsed": false
   },
   "outputs": [
    {
     "name": "stdout",
     "output_type": "stream",
     "text": [
      "GETTING STARTED WITH bs4\n"
     ]
    }
   ],
   "source": [
    "##Getting the text\n",
    "print html_soup.head.title.text\n"
   ]
  },
  {
   "cell_type": "code",
   "execution_count": 39,
   "metadata": {
    "collapsed": false
   },
   "outputs": [
    {
     "name": "stdout",
     "output_type": "stream",
     "text": [
      "<div class=\"para 1\">\n",
      "<p>\n",
      "            This is paragraph one\n",
      "        </p>\n",
      "<p>\n",
      "            This is paragraph two\n",
      "        </p>\n",
      "</div>\n"
     ]
    }
   ],
   "source": [
    "##Suppose we want to traverse to first para in div with class para 1\n",
    "print html_soup.div \n",
    "##only the first occurence of div is returned, while in document there are 3 occurences of div "
   ]
  },
  {
   "cell_type": "code",
   "execution_count": 40,
   "metadata": {
    "collapsed": false
   },
   "outputs": [
    {
     "name": "stdout",
     "output_type": "stream",
     "text": [
      "<p>\n",
      "            This is paragraph one\n",
      "        </p>\n"
     ]
    }
   ],
   "source": [
    "print html_soup.div.p"
   ]
  },
  {
   "cell_type": "code",
   "execution_count": 41,
   "metadata": {
    "collapsed": false
   },
   "outputs": [
    {
     "name": "stdout",
     "output_type": "stream",
     "text": [
      "\n",
      "\n"
     ]
    }
   ],
   "source": [
    "## What if we wanted to look at the second para in the tree?\n",
    "print html_soup.div.p.next_sibling"
   ]
  },
  {
   "cell_type": "code",
   "execution_count": 42,
   "metadata": {
    "collapsed": false
   },
   "outputs": [
    {
     "name": "stdout",
     "output_type": "stream",
     "text": [
      "<p>\n",
      "            This is paragraph two\n",
      "        </p>\n"
     ]
    }
   ],
   "source": [
    "## What if we wanted to look at the second para in the tree?\n",
    "print html_soup.div.p.next_sibling.next_sibling"
   ]
  },
  {
   "cell_type": "code",
   "execution_count": 43,
   "metadata": {
    "collapsed": false
   },
   "outputs": [
    {
     "name": "stdout",
     "output_type": "stream",
     "text": [
      "[u'\\n            This is paragraph two\\n        ']\n"
     ]
    }
   ],
   "source": [
    "## What if we wanted to look at the second para in the tree?\n",
    "print html_soup.div.p.next_sibling.next_sibling.contents"
   ]
  },
  {
   "cell_type": "code",
   "execution_count": 44,
   "metadata": {
    "collapsed": false
   },
   "outputs": [
    {
     "name": "stdout",
     "output_type": "stream",
     "text": [
      "\n",
      "            This is paragraph two\n",
      "        \n"
     ]
    }
   ],
   "source": [
    "## What if we wanted to look at the second para in the tree?\n",
    "print html_soup.div.p.next_sibling.next_sibling.string"
   ]
  },
  {
   "cell_type": "code",
   "execution_count": 45,
   "metadata": {
    "collapsed": false
   },
   "outputs": [
    {
     "name": "stdout",
     "output_type": "stream",
     "text": [
      "\n",
      "            This is paragraph two\n",
      "        \n"
     ]
    }
   ],
   "source": [
    "## What if we wanted to look at the second para in the tree?\n",
    "print html_soup.div.p.next_sibling.next_sibling.text"
   ]
  },
  {
   "cell_type": "code",
   "execution_count": 46,
   "metadata": {
    "collapsed": false
   },
   "outputs": [
    {
     "name": "stdout",
     "output_type": "stream",
     "text": [
      "<!DOCTYPE html>\n",
      "<html>\n",
      " <head>\n",
      "  <title>\n",
      "   GETTING STARTED WITH bs4\n",
      "  </title>\n",
      " </head>\n",
      " <div class=\"para 1\">\n",
      "  <p>\n",
      "   This is paragraph one\n",
      "  </p>\n",
      "  <p>\n",
      "   This is paragraph two\n",
      "  </p>\n",
      " </div>\n",
      " <div class=\"para 2\">\n",
      "  <p>\n",
      "   This is para 1 in div 2\n",
      "  </p>\n",
      " </div>\n",
      " <div class=\"para 1\">\n",
      "  <p>\n",
      "   This is paragraph three of div with class para 1\n",
      "  </p>\n",
      "  <p>\n",
      "   This is paragraph four of div with class para 1\n",
      "  </p>\n",
      " </div>\n",
      "</html>\n"
     ]
    }
   ],
   "source": [
    "## Traversing the html tree\n",
    "# One can go deep into the tree by using appropriate tag methods\n",
    "print html_soup.prettify()\n",
    "#Suppose we wanted to extract the first para in div with class para 2?"
   ]
  },
  {
   "cell_type": "code",
   "execution_count": 47,
   "metadata": {
    "collapsed": false
   },
   "outputs": [
    {
     "name": "stdout",
     "output_type": "stream",
     "text": [
      "<div class=\"para 2\">\n",
      "<p>\n",
      "            This is para 1 in div 2\n",
      "        </p>\n",
      "</div>\n"
     ]
    }
   ],
   "source": [
    "## There are find methods that help us do that\n",
    "print html_soup.find('div',class_='para 2')"
   ]
  },
  {
   "cell_type": "code",
   "execution_count": 48,
   "metadata": {
    "collapsed": false
   },
   "outputs": [
    {
     "name": "stdout",
     "output_type": "stream",
     "text": [
      "<class 'bs4.element.Tag'>\n"
     ]
    }
   ],
   "source": [
    "print type(html_soup.find('div',class_='para 2'))"
   ]
  },
  {
   "cell_type": "code",
   "execution_count": 49,
   "metadata": {
    "collapsed": false
   },
   "outputs": [
    {
     "name": "stdout",
     "output_type": "stream",
     "text": [
      "[<div class=\"para 2\">\\n<p>\\n            This is para 1 in div 2\\n        </p>\\n</div>]\n"
     ]
    }
   ],
   "source": [
    "## There are find methods that help us do that\n",
    "print html_soup.find_all('div',class_='para 2')"
   ]
  },
  {
   "cell_type": "code",
   "execution_count": 50,
   "metadata": {
    "collapsed": false
   },
   "outputs": [
    {
     "name": "stdout",
     "output_type": "stream",
     "text": [
      "<class 'bs4.element.ResultSet'>\n"
     ]
    }
   ],
   "source": [
    "print type(html_soup.find_all('div',class_='para 2'))"
   ]
  },
  {
   "cell_type": "code",
   "execution_count": 51,
   "metadata": {
    "collapsed": false
   },
   "outputs": [
    {
     "data": {
      "text/plain": [
       "[<div class=\"para 1\">\\n<p>\\n            This is paragraph one\\n        </p>\\n<p>\\n            This is paragraph two\\n        </p>\\n</div>,\n",
       " <div class=\"para 1\">\\n<p>\\n            This is paragraph three of div with class para 1\\n        </p>\\n<p>\\n            This is paragraph four of div with class para 1\\n        </p>\\n</div>]"
      ]
     },
     "execution_count": 51,
     "metadata": {},
     "output_type": "execute_result"
    }
   ],
   "source": [
    "## Suppose we wanted to extract all the text within div with class para 1?\n",
    "html_soup.find_all('div',class_='para 1')"
   ]
  },
  {
   "cell_type": "code",
   "execution_count": 52,
   "metadata": {
    "collapsed": false
   },
   "outputs": [
    {
     "data": {
      "text/plain": [
       "2"
      ]
     },
     "execution_count": 52,
     "metadata": {},
     "output_type": "execute_result"
    }
   ],
   "source": [
    "len(html_soup.find_all('div',class_='para 1'))"
   ]
  },
  {
   "cell_type": "code",
   "execution_count": 53,
   "metadata": {
    "collapsed": false
   },
   "outputs": [
    {
     "data": {
      "text/plain": [
       "u'\\n\\n            This is paragraph one\\n        \\n\\n            This is paragraph two\\n        \\n'"
      ]
     },
     "execution_count": 53,
     "metadata": {},
     "output_type": "execute_result"
    }
   ],
   "source": [
    "html_soup.find_all('div',class_='para 1')[0].text"
   ]
  },
  {
   "cell_type": "code",
   "execution_count": 54,
   "metadata": {
    "collapsed": false
   },
   "outputs": [
    {
     "name": "stdout",
     "output_type": "stream",
     "text": [
      "\n",
      "\n",
      "            This is paragraph one\n",
      "        \n",
      "\n",
      "            This is paragraph two\n",
      "        \n",
      "\n",
      "\n",
      "\n",
      "            This is paragraph three of div with class para 1\n",
      "        \n",
      "\n",
      "            This is paragraph four of div with class para 1\n",
      "        \n",
      "\n"
     ]
    }
   ],
   "source": [
    "## We can also loop\n",
    "for t in html_soup.find_all('div',class_='para 1'):\n",
    "    print t.text"
   ]
  },
  {
   "cell_type": "code",
   "execution_count": 55,
   "metadata": {
    "collapsed": false
   },
   "outputs": [
    {
     "name": "stdout",
     "output_type": "stream",
     "text": [
      "\n",
      "            This is paragraph two\n",
      "        \n",
      "\n",
      "            This is paragraph four of div with class para 1\n",
      "        \n"
     ]
    }
   ],
   "source": [
    "##Suppose we wanted only the second paragraph in each div?\n",
    "for t in html_soup.find_all('div',class_='para 1'):\n",
    "    print t.p.next_sibling.next_sibling.text"
   ]
  },
  {
   "cell_type": "code",
   "execution_count": 66,
   "metadata": {
    "collapsed": false
   },
   "outputs": [
    {
     "name": "stdout",
     "output_type": "stream",
     "text": [
      "This is paragraph two\n",
      "This is paragraph four of div with class para 1\n"
     ]
    }
   ],
   "source": [
    "##Suppose we wanted only the second paragraph in each div?\n",
    "for t in html_soup.find_all('div',class_='para 1'):\n",
    "    print t.p.next_sibling.next_sibling.text.strip()"
   ]
  },
  {
   "cell_type": "markdown",
   "metadata": {},
   "source": [
    "## Demo: Combining requests + beautifulsoup to extract top 100 favourite movie quotes"
   ]
  },
  {
   "cell_type": "markdown",
   "metadata": {},
   "source": [
    "We will be using this http://www.imdb.com/list/ls000029269/ to scrape the quotes and write them out in a text file. A rough sequence of steps would be to:\n",
    "1. Use requests() to get the html markup\n",
    "2. Create a soup object\n",
    "3. Use appropriate Tag methods to grab the data"
   ]
  },
  {
   "cell_type": "code",
   "execution_count": null,
   "metadata": {
    "collapsed": true
   },
   "outputs": [],
   "source": [
    "url='http://www.imdb.com/list/ls000029269/'\n",
    "imdb_html=requests.get(url)\n",
    "imdb_html=imdb_html.content"
   ]
  },
  {
   "cell_type": "code",
   "execution_count": null,
   "metadata": {
    "collapsed": false
   },
   "outputs": [],
   "source": [
    "imdb_soup=BeautifulSoup(imdb_html,'html.parser')"
   ]
  },
  {
   "cell_type": "code",
   "execution_count": null,
   "metadata": {
    "collapsed": false
   },
   "outputs": [],
   "source": [
    "print imdb_soup.prettify()[0:1000]"
   ]
  },
  {
   "cell_type": "code",
   "execution_count": null,
   "metadata": {
    "collapsed": false
   },
   "outputs": [],
   "source": [
    "f=open('quotes.txt','w')\n",
    "for t in imdb_soup.find_all('div',class_='description'):\n",
    "     f.write(t.text.strip().encode('utf-8')+'\\n')\n",
    "f.close()"
   ]
  },
  {
   "cell_type": "code",
   "execution_count": null,
   "metadata": {
    "collapsed": false
   },
   "outputs": [],
   "source": [
    "for t in imdb_soup.find_all('div',class_='description'):\n",
    "     print t.text.strip()\n"
   ]
  },
  {
   "cell_type": "markdown",
   "metadata": {
    "collapsed": true
   },
   "source": []
  }
 ],
 "metadata": {
  "anaconda-cloud": {},
  "kernelspec": {
   "display_name": "Python 2",
   "language": "python",
   "name": "python2"
  },
  "language_info": {
   "codemirror_mode": {
    "name": "ipython",
    "version": 2
   },
   "file_extension": ".py",
   "mimetype": "text/x-python",
   "name": "python",
   "nbconvert_exporter": "python",
   "pygments_lexer": "ipython2",
   "version": "2.7.13"
  }
 },
 "nbformat": 4,
 "nbformat_minor": 1
}
